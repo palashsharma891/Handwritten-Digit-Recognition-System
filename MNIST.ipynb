{
 "cells": [
  {
   "cell_type": "code",
   "execution_count": 1,
   "metadata": {},
   "outputs": [],
   "source": [
    "import tensorflow as tf"
   ]
  },
  {
   "cell_type": "code",
   "execution_count": 21,
   "metadata": {},
   "outputs": [],
   "source": [
    "# load the data\n",
    "\n",
    "mnist = tf.keras.datasets.mnist\n",
    "(x_train, y_train), (x_test, y_test) = mnist.load_data() # the data is in the form of two sequences"
   ]
  },
  {
   "cell_type": "code",
   "execution_count": 22,
   "metadata": {},
   "outputs": [],
   "source": [
    "# reshape the images\n",
    "\n",
    "x_train = x_train.reshape(60000, 28, 28, 1)\n",
    "x_test = x_test.reshape(10000, 28, 28, 1)\n",
    "x_train, x_test = x_train / 255.0, x_test / 255.0    "
   ]
  },
  {
   "cell_type": "code",
   "execution_count": 23,
   "metadata": {},
   "outputs": [],
   "source": [
    "# creating a custom callback class to stop training after achieve 99.8% accuracy\n",
    "\n",
    "class myCallback(tf.keras.callbacks.Callback):\n",
    "    def on_epoch_end(self, epoch, logs={}):\n",
    "        if(logs.get('accuracy') >= 0.998):\n",
    "            print(\"Reached 99.8% accuracy so cancelling training!\")\n",
    "            self.model.stop_training = True\n",
    "            \n",
    "callbacks = myCallback()"
   ]
  },
  {
   "cell_type": "code",
   "execution_count": 24,
   "metadata": {},
   "outputs": [],
   "source": [
    "# create the model using the Sequential API\n",
    "\n",
    "model = tf.keras.models.Sequential([\n",
    "    tf.keras.layers.Conv2D(32, (3,3), activation='relu', input_shape=(28, 28, 1)),\n",
    "    tf.keras.layers.MaxPooling2D(2, 2),\n",
    "    tf.keras.layers.Flatten(),\n",
    "    tf.keras.layers.Dense(128, activation='relu'),\n",
    "    tf.keras.layers.Dense(10, activation='softmax')\n",
    "])"
   ]
  },
  {
   "cell_type": "code",
   "execution_count": 25,
   "metadata": {},
   "outputs": [],
   "source": [
    "# compiling the model\n",
    "\n",
    "model.compile(optimizer='adam',\n",
    "             loss='sparse_categorical_crossentropy',\n",
    "             metrics=['accuracy'])"
   ]
  },
  {
   "cell_type": "code",
   "execution_count": 26,
   "metadata": {
    "scrolled": false
   },
   "outputs": [
    {
     "name": "stdout",
     "output_type": "stream",
     "text": [
      "Train on 60000 samples\n",
      "Epoch 1/20\n",
      "60000/60000 [==============================] - 26s 426us/sample - loss: 0.2241 - accuracy: 0.9363\n",
      "Epoch 2/20\n",
      "60000/60000 [==============================] - 25s 415us/sample - loss: 0.0695 - accuracy: 0.9796\n",
      "Epoch 3/20\n",
      "60000/60000 [==============================] - 25s 411us/sample - loss: 0.0468 - accuracy: 0.9858\n",
      "Epoch 4/20\n",
      "60000/60000 [==============================] - 25s 412us/sample - loss: 0.0355 - accuracy: 0.9891\n",
      "Epoch 5/20\n",
      "60000/60000 [==============================] - 25s 415us/sample - loss: 0.0271 - accuracy: 0.9915\n",
      "Epoch 6/20\n",
      "60000/60000 [==============================] - 25s 414us/sample - loss: 0.0205 - accuracy: 0.9938\n",
      "Epoch 7/20\n",
      "60000/60000 [==============================] - 25s 420us/sample - loss: 0.0155 - accuracy: 0.9953\n",
      "Epoch 8/20\n",
      "60000/60000 [==============================] - 25s 419us/sample - loss: 0.0120 - accuracy: 0.9967\n",
      "Epoch 9/20\n",
      "60000/60000 [==============================] - 25s 425us/sample - loss: 0.0092 - accuracy: 0.9974\n",
      "Epoch 10/20\n",
      "59904/60000 [============================>.] - ETA: 0s - loss: 0.0071 - accuracy: 0.9982Reached 99.8% accuracy so cancelling training!\n",
      "60000/60000 [==============================] - 25s 413us/sample - loss: 0.0071 - accuracy: 0.9982\n"
     ]
    },
    {
     "data": {
      "text/plain": [
       "<tensorflow.python.keras.callbacks.History at 0x7f3b6a85e810>"
      ]
     },
     "execution_count": 26,
     "metadata": {},
     "output_type": "execute_result"
    }
   ],
   "source": [
    "# fitting the model\n",
    "\n",
    "model.fit(x_train, y_train,\n",
    "         epochs=20, batch_size=128,\n",
    "         callbacks=[callbacks])"
   ]
  }
 ],
 "metadata": {
  "kernelspec": {
   "display_name": "Python 3",
   "language": "python",
   "name": "python3"
  },
  "language_info": {
   "codemirror_mode": {
    "name": "ipython",
    "version": 3
   },
   "file_extension": ".py",
   "mimetype": "text/x-python",
   "name": "python",
   "nbconvert_exporter": "python",
   "pygments_lexer": "ipython3",
   "version": "3.7.6"
  }
 },
 "nbformat": 4,
 "nbformat_minor": 4
}
